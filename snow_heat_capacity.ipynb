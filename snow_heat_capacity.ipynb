{
 "cells": [
  {
   "cell_type": "code",
   "execution_count": 1,
   "metadata": {},
   "outputs": [],
   "source": [
    "import pandas as pd\n",
    "import numpy as np\n",
    "import matplotlib.pyplot as plt"
   ]
  },
  {
   "cell_type": "code",
   "execution_count": 2,
   "metadata": {},
   "outputs": [
    {
     "name": "stdout",
     "output_type": "stream",
     "text": [
      "Floe 1: 4.826172e+07 Wm^-2K^-1\n",
      "Floe 2: 6.234908e+07 Wm^-2K^-1\n",
      "Floe 3: 9.373659e+07 Wm^-2K^-1\n",
      "Floe 4: 6.575825e+07 Wm^-2K^-1\n"
     ]
    }
   ],
   "source": [
    "floes = [1, 2, 3, 4]\n",
    "for floe in floes:\n",
    "    snowsheat = 2090\n",
    "    snowpit = pd.read_excel('/Volumes/Seagate Desktop/PhD Data/Snow/Snowpits_Floe' + str(floe) + '_db.xlsx')[['Snow_depth', 'Temperature', 'Density_(Kg.m-3)']].dropna()\n",
    "    snowpit.columns = ['depth','temp','den']\n",
    "    snowpit.temp = snowpit.temp + 273.15\n",
    "    snowpit.depth = snowpit.depth / 100\n",
    "\n",
    "    print(\"Floe \" + str(floe) + \": \" + \"{:e}\".format((snowpit.temp * snowpit.depth * snowpit.den * snowsheat).mean()) + \" Wm^-2K^-1\")"
   ]
  },
  {
   "cell_type": "code",
   "execution_count": 3,
   "metadata": {},
   "outputs": [
    {
     "name": "stdout",
     "output_type": "stream",
     "text": [
      "6.957370e+07 Wm^-2K^-1\n"
     ]
    }
   ],
   "source": [
    "snowsheat = 2090\n",
    "snowpit = pd.read_excel('/Volumes/Seagate Desktop/PhD Data/Snow/Snowpits_Floe' + str(1) + '_db.xlsx')[['Snow_depth', 'Temperature', 'Density_(Kg.m-3)']].dropna()\n",
    "snowpit.columns = ['depth','temp','den']\n",
    "snowpit.temp = snowpit.temp + 273.15\n",
    "snowpit.depth = snowpit.depth / 100\n",
    "snowpit2 = pd.read_excel('/Volumes/Seagate Desktop/PhD Data/Snow/Snowpits_Floe' + str(2) + '_db.xlsx')[['Snow_depth', 'Temperature', 'Density_(Kg.m-3)']].dropna()\n",
    "snowpit2.columns = ['depth','temp','den']\n",
    "snowpit2.temp = snowpit2.temp + 273.15\n",
    "snowpit2.depth = snowpit2.depth / 100\n",
    "snowpit3 = pd.read_excel('/Volumes/Seagate Desktop/PhD Data/Snow/Snowpits_Floe' + str(3) + '_db.xlsx')[['Snow_depth', 'Temperature', 'Density_(Kg.m-3)']].dropna()\n",
    "snowpit3.columns = ['depth','temp','den']\n",
    "snowpit3.temp = snowpit3.temp + 273.15\n",
    "snowpit3.depth = snowpit3.depth / 100\n",
    "snowpit4 = pd.read_excel('/Volumes/Seagate Desktop/PhD Data/Snow/Snowpits_Floe' + str(4) + '_db.xlsx')[['Snow_depth', 'Temperature', 'Density_(Kg.m-3)']].dropna()\n",
    "snowpit4.columns = ['depth','temp','den']\n",
    "snowpit4.temp = snowpit4.temp + 273.15\n",
    "snowpit4.depth = snowpit4.depth / 100\n",
    "snowpits = pd.concat([snowpit, snowpit2, snowpit3, snowpit4])\n",
    "print(\"{:e}\".format((snowpits.temp * snowpits.depth * snowpits.den * snowsheat).mean()) + \" Wm^-2K^-1\")"
   ]
  },
  {
   "cell_type": "code",
   "execution_count": 4,
   "metadata": {},
   "outputs": [
    {
     "data": {
      "text/plain": [
       "15"
      ]
     },
     "execution_count": 4,
     "metadata": {},
     "output_type": "execute_result"
    }
   ],
   "source": [
    "len(snowpit3)"
   ]
  },
  {
   "cell_type": "code",
   "execution_count": 5,
   "metadata": {},
   "outputs": [
    {
     "data": {
      "text/plain": [
       "22"
      ]
     },
     "execution_count": 5,
     "metadata": {},
     "output_type": "execute_result"
    }
   ],
   "source": [
    "len(snowpit4)"
   ]
  },
  {
   "cell_type": "code",
   "execution_count": 6,
   "metadata": {},
   "outputs": [
    {
     "data": {
      "text/plain": [
       "12"
      ]
     },
     "execution_count": 6,
     "metadata": {},
     "output_type": "execute_result"
    }
   ],
   "source": [
    "len(snowpit2)"
   ]
  },
  {
   "cell_type": "code",
   "execution_count": 7,
   "metadata": {},
   "outputs": [
    {
     "data": {
      "text/plain": [
       "9"
      ]
     },
     "execution_count": 7,
     "metadata": {},
     "output_type": "execute_result"
    }
   ],
   "source": [
    "len(snowpit)"
   ]
  }
 ],
 "metadata": {
  "kernelspec": {
   "display_name": "Python 3",
   "language": "python",
   "name": "python3"
  },
  "language_info": {
   "codemirror_mode": {
    "name": "ipython",
    "version": 3
   },
   "file_extension": ".py",
   "mimetype": "text/x-python",
   "name": "python",
   "nbconvert_exporter": "python",
   "pygments_lexer": "ipython3",
   "version": "3.10.9"
  },
  "orig_nbformat": 4
 },
 "nbformat": 4,
 "nbformat_minor": 2
}
